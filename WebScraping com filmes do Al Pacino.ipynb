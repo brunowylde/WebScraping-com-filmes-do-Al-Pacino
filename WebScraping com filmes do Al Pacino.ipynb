{
 "cells": [
  {
   "cell_type": "markdown",
   "metadata": {},
   "source": [
    "<h2>Fazendo web scraping com IMDb</h2>"
   ]
  },
  {
   "cell_type": "code",
   "execution_count": 1,
   "metadata": {},
   "outputs": [],
   "source": [
    "# ! pip install bs4"
   ]
  },
  {
   "cell_type": "code",
   "execution_count": 2,
   "metadata": {},
   "outputs": [],
   "source": [
    "import requests \n",
    "from bs4 import BeautifulSoup\n",
    "import pandas as pd\n",
    "import numpy as np\n",
    "import re\n",
    "\n",
    "import matplotlib as mpl\n",
    "import matplotlib.pyplot as plt\n",
    "import seaborn as sns"
   ]
  },
  {
   "cell_type": "code",
   "execution_count": 3,
   "metadata": {},
   "outputs": [],
   "source": [
    "# url com a listagem de filmes de Al Pacino\n",
    "url = 'https://www.imdb.com/name/nm0000199/?ref_=nm_ql_4'\n",
    "\n",
    "# fazendo a conexão\n",
    "con = requests.get(url)\n",
    "con.status_code\n",
    "\n",
    "# criando objeto beautifulsoup\n",
    "# o conteúdo html da página\n",
    "soup = BeautifulSoup(con.content,\"html.parser\")"
   ]
  },
  {
   "cell_type": "code",
   "execution_count": 4,
   "metadata": {},
   "outputs": [],
   "source": [
    "# print(soup.prettify())"
   ]
  },
  {
   "cell_type": "code",
   "execution_count": 5,
   "metadata": {},
   "outputs": [],
   "source": [
    "# pegando tudo relacionado a filmes\n",
    "nomeFilmes = [tag.find('a') for tag in soup.findAll('div', class_='filmo-row')]"
   ]
  },
  {
   "cell_type": "code",
   "execution_count": 6,
   "metadata": {},
   "outputs": [],
   "source": [
    "# tratando caracteres indesejados\n",
    "anoFilmes = [tag.find('span') for tag in soup.findAll('div', class_='filmo-row')]\n",
    "\n",
    "anos = []\n",
    "for num in anoFilmes:\n",
    "    id = anoFilmes.index(num)\n",
    "    c = re.findall('\\d+', str(anoFilmes[id]))\n",
    "    c = re.sub(\"\\['\", '', str(c))\n",
    "    c = re.sub(\"\\']\",'',str(c))\n",
    "    c = re.sub(\"\\'\\,\",' -',str(c))\n",
    "    c = re.sub(\"\\ '\",' ',str(c))\n",
    "    anos.append(c)"
   ]
  },
  {
   "cell_type": "code",
   "execution_count": 7,
   "metadata": {},
   "outputs": [],
   "source": [
    "# usando re para pegar tudo o que está entre \"\" para gerar o link do filme\n",
    "linkPart = 'http://imdb.com'\n",
    "linksFilmes = []\n",
    "for num in nomeFilmes:\n",
    "    id = nomeFilmes.index(num)\n",
    "    a = re.findall(r'\"(.*?)\"', str(nomeFilmes[id]))\n",
    "    a = re.sub(\"\\['\", '', str(a))\n",
    "    a = re.sub(\"\\']\", '', str(a))\n",
    "    a = linkPart + str(a)\n",
    "    linksFilmes.append(a)"
   ]
  },
  {
   "cell_type": "code",
   "execution_count": 8,
   "metadata": {},
   "outputs": [],
   "source": [
    "titulosFilmes = []\n",
    "for num in nomeFilmes:\n",
    "    id = nomeFilmes.index(num)\n",
    "    b = re.findall(r'>(.*?)<', str(nomeFilmes[id]))\n",
    "    b = re.sub(\"\\['\", '', str(b))\n",
    "    b = re.sub(\"\\']\", '', str(b))\n",
    "    b = re.sub('\\[\"', '', str(b))\n",
    "    b = re.sub('\\\"]', '', str(b))\n",
    "    titulosFilmes.append(b)"
   ]
  },
  {
   "cell_type": "code",
   "execution_count": 9,
   "metadata": {},
   "outputs": [],
   "source": [
    "def pegaAno(soup):\n",
    "    anoFilme = [tag.find('a') for tag in soup2.findAll('h1', itemprop='name')]\n",
    "    anoFilme = re.findall(r'>(.*?)<', str(anoFilme))\n",
    "    if len(anoFilme):\n",
    "        return int(anoFilme[0])\n",
    "    else:\n",
    "        return None"
   ]
  },
  {
   "cell_type": "code",
   "execution_count": 10,
   "metadata": {},
   "outputs": [],
   "source": [
    "def pegaNotaIMDB(link):\n",
    "    for i in link:\n",
    "        con2 = requests.get(link)\n",
    "        soup2= BeautifulSoup(con2.content, \"html.parser\")\n",
    "        ratFilme = [tag.find('span', itemprop='ratingValue') for tag in soup2.findAll('div', class_='ratingValue')]\n",
    "        ratFilme = re.findall(r'>(.*?)<', str(ratFilme))\n",
    "        if len(ratFilme):\n",
    "            return str(ratFilme[0])\n",
    "        else:\n",
    "            return None"
   ]
  },
  {
   "cell_type": "code",
   "execution_count": 11,
   "metadata": {},
   "outputs": [],
   "source": [
    "#Genre\n",
    "def pegaGenero(soup):\n",
    "    genFilme = [tag.findAll('a') for tag in soup2.findAll('div', class_='subtext')]\n",
    "    genFilme = re.findall(r'>(.*?)<', str(genFilme))\n",
    "    genFilmes = ''.join(genFilme)\n",
    "    genFilmes = genFilmes[:-2]\n",
    "    return genFilmes"
   ]
  },
  {
   "cell_type": "code",
   "execution_count": 12,
   "metadata": {},
   "outputs": [],
   "source": [
    "# funções para pegar informações do filme\n",
    "qtdFilmAct = 61\n",
    "film = {}\n",
    "listaFilmes = []\n",
    "\n",
    "for i in range(qtdFilmAct):\n",
    "    con2 = requests.get(linksFilmes[i])\n",
    "    soup2 = BeautifulSoup(con2.content, \"html.parser\")\n",
    "    con2.close()\n",
    "\n",
    "    film['Titulo']            = titulosFilmes[i]\n",
    "    film['Link']              = linksFilmes[i]\n",
    "    film['Ano']               = anos[i]\n",
    "    film['Genero']            = pegaGenero(linksFilmes[i])\n",
    "    film['Nota IMDB']         = pegaNotaIMDB(linksFilmes[i])\n",
    "    listaFilmes.append(film.copy())"
   ]
  },
  {
   "cell_type": "code",
   "execution_count": 13,
   "metadata": {
    "scrolled": true
   },
   "outputs": [],
   "source": [
    "# separando o dataframe em 2: um com dados de filmes nao lançados, e outro de filmes lançados\n",
    "dffilme = pd.DataFrame(listaFilmes, columns=['Titulo', 'Link', 'Ano', 'Genero', 'Nota IMDB'])\n",
    "dffilme = dffilme.iloc[5:,:]\n",
    "dfnaolancados = dffilme.iloc[:5,:]"
   ]
  },
  {
   "cell_type": "code",
   "execution_count": 14,
   "metadata": {},
   "outputs": [
    {
     "data": {
      "text/html": [
       "<div>\n",
       "<style scoped>\n",
       "    .dataframe tbody tr th:only-of-type {\n",
       "        vertical-align: middle;\n",
       "    }\n",
       "\n",
       "    .dataframe tbody tr th {\n",
       "        vertical-align: top;\n",
       "    }\n",
       "\n",
       "    .dataframe thead th {\n",
       "        text-align: right;\n",
       "    }\n",
       "</style>\n",
       "<table border=\"1\" class=\"dataframe\">\n",
       "  <thead>\n",
       "    <tr style=\"text-align: right;\">\n",
       "      <th></th>\n",
       "      <th>Titulo</th>\n",
       "      <th>Link</th>\n",
       "      <th>Ano</th>\n",
       "      <th>Genero</th>\n",
       "      <th>Nota IMDB</th>\n",
       "    </tr>\n",
       "  </thead>\n",
       "  <tbody>\n",
       "    <tr>\n",
       "      <th>5</th>\n",
       "      <td>Paterno</td>\n",
       "      <td>http://imdb.com/title/tt2388986/?ref_=nm_flmg_...</td>\n",
       "      <td>2018</td>\n",
       "      <td>Biography, Crime, Sport</td>\n",
       "      <td>6.5</td>\n",
       "    </tr>\n",
       "    <tr>\n",
       "      <th>6</th>\n",
       "      <td>Letras da Morte</td>\n",
       "      <td>http://imdb.com/title/tt3011960/?ref_=nm_flmg_...</td>\n",
       "      <td>2017</td>\n",
       "      <td>Crime, Mystery, Thriller</td>\n",
       "      <td>5.2</td>\n",
       "    </tr>\n",
       "    <tr>\n",
       "      <th>7</th>\n",
       "      <td>The Pirates of Somalia</td>\n",
       "      <td>http://imdb.com/title/tt5126922/?ref_=nm_flmg_...</td>\n",
       "      <td>2017</td>\n",
       "      <td>Biography, Drama</td>\n",
       "      <td>6.8</td>\n",
       "    </tr>\n",
       "    <tr>\n",
       "      <th>8</th>\n",
       "      <td>Má Conduta</td>\n",
       "      <td>http://imdb.com/title/tt3658772/?ref_=nm_flmg_...</td>\n",
       "      <td>2016</td>\n",
       "      <td>Crime, Drama, Mystery</td>\n",
       "      <td>5.3</td>\n",
       "    </tr>\n",
       "    <tr>\n",
       "      <th>9</th>\n",
       "      <td>Não Olhe para Trás</td>\n",
       "      <td>http://imdb.com/title/tt1772288/?ref_=nm_flmg_...</td>\n",
       "      <td>2015</td>\n",
       "      <td>Biography, Comedy, Drama</td>\n",
       "      <td>7.0</td>\n",
       "    </tr>\n",
       "  </tbody>\n",
       "</table>\n",
       "</div>"
      ],
      "text/plain": [
       "                   Titulo                                               Link  \\\n",
       "5                 Paterno  http://imdb.com/title/tt2388986/?ref_=nm_flmg_...   \n",
       "6         Letras da Morte  http://imdb.com/title/tt3011960/?ref_=nm_flmg_...   \n",
       "7  The Pirates of Somalia  http://imdb.com/title/tt5126922/?ref_=nm_flmg_...   \n",
       "8              Má Conduta  http://imdb.com/title/tt3658772/?ref_=nm_flmg_...   \n",
       "9      Não Olhe para Trás  http://imdb.com/title/tt1772288/?ref_=nm_flmg_...   \n",
       "\n",
       "    Ano                    Genero Nota IMDB  \n",
       "5  2018   Biography, Crime, Sport       6.5  \n",
       "6  2017  Crime, Mystery, Thriller       5.2  \n",
       "7  2017          Biography, Drama       6.8  \n",
       "8  2016     Crime, Drama, Mystery       5.3  \n",
       "9  2015  Biography, Comedy, Drama       7.0  "
      ]
     },
     "execution_count": 14,
     "metadata": {},
     "output_type": "execute_result"
    }
   ],
   "source": [
    "dffilme.head()"
   ]
  },
  {
   "cell_type": "code",
   "execution_count": 15,
   "metadata": {},
   "outputs": [
    {
     "data": {
      "text/plain": [
       "Titulo       0\n",
       "Link         0\n",
       "Ano          0\n",
       "Genero       0\n",
       "Nota IMDB    0\n",
       "dtype: int64"
      ]
     },
     "execution_count": 15,
     "metadata": {},
     "output_type": "execute_result"
    }
   ],
   "source": [
    "# verificando se há dados nulos\n",
    "dffilme.isna().sum()"
   ]
  },
  {
   "cell_type": "code",
   "execution_count": 16,
   "metadata": {},
   "outputs": [
    {
     "data": {
      "text/plain": [
       "Titulo       object\n",
       "Link         object\n",
       "Ano          object\n",
       "Genero       object\n",
       "Nota IMDB    object\n",
       "dtype: object"
      ]
     },
     "execution_count": 16,
     "metadata": {},
     "output_type": "execute_result"
    }
   ],
   "source": [
    "dffilme.dtypes"
   ]
  },
  {
   "cell_type": "code",
   "execution_count": 17,
   "metadata": {},
   "outputs": [],
   "source": [
    "# transformando a nota do IMDB em float, para poder plotar os gráficos\n",
    "dffilme['Nota IMDB'] = dffilme['Nota IMDB'].apply(pd.to_numeric, downcast='float', errors='coerce')"
   ]
  },
  {
   "cell_type": "code",
   "execution_count": 18,
   "metadata": {},
   "outputs": [
    {
     "data": {
      "text/plain": [
       "Titulo                   The Godfather: A Novel for Television\n",
       "Link         http://imdb.com/title/tt0809488/?ref_=nm_flmg_...\n",
       "Ano                                                       1977\n",
       "Genero                                  Crime, Drama, Thriller\n",
       "Nota IMDB                                                  9.5\n",
       "Name: 51, dtype: object"
      ]
     },
     "execution_count": 18,
     "metadata": {},
     "output_type": "execute_result"
    }
   ],
   "source": [
    "# verificando o filme com a maior nota no IMDB atuado pelo Al Pacino\n",
    "dffilme.loc[dffilme['Nota IMDB'].idxmax()]"
   ]
  },
  {
   "cell_type": "code",
   "execution_count": 19,
   "metadata": {},
   "outputs": [
    {
     "data": {
      "image/png": "[encoded data removed]",
      "text/plain": [
       "<Figure size 432x288 with 1 Axes>"
      ]
     },
     "metadata": {},
     "output_type": "display_data"
    }
   ],
   "source": [
    "# Os 10 filmes melhor avaliados de Al Pacino\n",
    "top10 = dffilme.sort_values(ascending = False, by=['Nota IMDB']).head(10)\n",
    "nomes = []\n",
    "nomes = top10['Titulo'].values\n",
    "def best_movies(axes = None):\n",
    "    top10.plot(kind=\"line\" , x=\"Titulo\", y =\"Nota IMDB\", ax=axes)\n",
    "    plt.xlabel(\"Filme\")\n",
    "    plt.ylabel(\"Nota do IMDb\")\n",
    "    plt.xticks(np.arange(12), nomes[0:], rotation=80)\n",
    "    plt.grid()\n",
    "    plt.title(\"Os 10 filmes melhor avaliados de Al Pacino\", fontsize=12)\n",
    "best_movies()"
   ]
  },
  {
   "cell_type": "code",
   "execution_count": 20,
   "metadata": {},
   "outputs": [],
   "source": [
    "generos = []\n",
    "for item in dffilme['Genero']:\n",
    "    new = item.split(\", \")\n",
    "    for x in new:\n",
    "        generos.append(x)"
   ]
  },
  {
   "cell_type": "code",
   "execution_count": 21,
   "metadata": {},
   "outputs": [
    {
     "data": {
      "text/html": [
       "<div>\n",
       "<style scoped>\n",
       "    .dataframe tbody tr th:only-of-type {\n",
       "        vertical-align: middle;\n",
       "    }\n",
       "\n",
       "    .dataframe tbody tr th {\n",
       "        vertical-align: top;\n",
       "    }\n",
       "\n",
       "    .dataframe thead th {\n",
       "        text-align: right;\n",
       "    }\n",
       "</style>\n",
       "<table border=\"1\" class=\"dataframe\">\n",
       "  <thead>\n",
       "    <tr style=\"text-align: right;\">\n",
       "      <th></th>\n",
       "      <th>Genero</th>\n",
       "    </tr>\n",
       "  </thead>\n",
       "  <tbody>\n",
       "    <tr>\n",
       "      <th>0</th>\n",
       "      <td>Biography</td>\n",
       "    </tr>\n",
       "    <tr>\n",
       "      <th>1</th>\n",
       "      <td>Crime</td>\n",
       "    </tr>\n",
       "    <tr>\n",
       "      <th>2</th>\n",
       "      <td>Sport</td>\n",
       "    </tr>\n",
       "    <tr>\n",
       "      <th>3</th>\n",
       "      <td>Crime</td>\n",
       "    </tr>\n",
       "    <tr>\n",
       "      <th>4</th>\n",
       "      <td>Mystery</td>\n",
       "    </tr>\n",
       "  </tbody>\n",
       "</table>\n",
       "</div>"
      ],
      "text/plain": [
       "      Genero\n",
       "0  Biography\n",
       "1      Crime\n",
       "2      Sport\n",
       "3      Crime\n",
       "4    Mystery"
      ]
     },
     "execution_count": 21,
     "metadata": {},
     "output_type": "execute_result"
    }
   ],
   "source": [
    "genre = pd.DataFrame(generos, columns=['Genero'])\n",
    "genre.head(5)"
   ]
  },
  {
   "cell_type": "code",
   "execution_count": 22,
   "metadata": {},
   "outputs": [
    {
     "data": {
      "text/html": [
       "<div>\n",
       "<style scoped>\n",
       "    .dataframe tbody tr th:only-of-type {\n",
       "        vertical-align: middle;\n",
       "    }\n",
       "\n",
       "    .dataframe tbody tr th {\n",
       "        vertical-align: top;\n",
       "    }\n",
       "\n",
       "    .dataframe thead th {\n",
       "        text-align: right;\n",
       "    }\n",
       "</style>\n",
       "<table border=\"1\" class=\"dataframe\">\n",
       "  <thead>\n",
       "    <tr style=\"text-align: right;\">\n",
       "      <th></th>\n",
       "      <th>Genero</th>\n",
       "      <th>Qtd</th>\n",
       "    </tr>\n",
       "  </thead>\n",
       "  <tbody>\n",
       "    <tr>\n",
       "      <th>0</th>\n",
       "      <td>Action</td>\n",
       "      <td>3</td>\n",
       "    </tr>\n",
       "    <tr>\n",
       "      <th>1</th>\n",
       "      <td>Adventure</td>\n",
       "      <td>1</td>\n",
       "    </tr>\n",
       "    <tr>\n",
       "      <th>2</th>\n",
       "      <td>Biography</td>\n",
       "      <td>9</td>\n",
       "    </tr>\n",
       "    <tr>\n",
       "      <th>3</th>\n",
       "      <td>Comedy</td>\n",
       "      <td>11</td>\n",
       "    </tr>\n",
       "    <tr>\n",
       "      <th>4</th>\n",
       "      <td>Crime</td>\n",
       "      <td>26</td>\n",
       "    </tr>\n",
       "  </tbody>\n",
       "</table>\n",
       "</div>"
      ],
      "text/plain": [
       "      Genero  Qtd\n",
       "0     Action    3\n",
       "1  Adventure    1\n",
       "2  Biography    9\n",
       "3     Comedy   11\n",
       "4      Crime   26"
      ]
     },
     "execution_count": 22,
     "metadata": {},
     "output_type": "execute_result"
    }
   ],
   "source": [
    "genre = genre.groupby([\"Genero\"]).size().reset_index(name='count')\n",
    "genre = genre.rename(columns={'count': 'Qtd'})\n",
    "genre.head(5)"
   ]
  },
  {
   "cell_type": "code",
   "execution_count": 23,
   "metadata": {
    "scrolled": true
   },
   "outputs": [
    {
     "data": {
      "image/png": "[encoded data removed]",
      "text/plain": [
       "<Figure size 432x288 with 1 Axes>"
      ]
     },
     "metadata": {},
     "output_type": "display_data"
    }
   ],
   "source": [
    "# Os gêneros mais comuns nos filmes de Al Pacino\n",
    "nomes = genre['Genero']\n",
    "genre = genre.sort_values(ascending=False, by=['Qtd'])\n",
    "def dist_generos(axes = None):\n",
    "    genre.plot(kind=\"bar\" , x=\"Genero\", y =\"Qtd\", ax=axes)\n",
    "    plt.xlabel(\"Gênero\")\n",
    "    plt.ylabel(\"Quantidade\")\n",
    "    plt.xticks(np.arange(12), nomes[0:], rotation=50)\n",
    "    plt.grid()\n",
    "    plt.title(\"Os gêneros mais comuns nos filmes de Al Pacino\", fontsize=12)\n",
    "dist_generos()"
   ]
  },
  {
   "cell_type": "code",
   "execution_count": 24,
   "metadata": {},
   "outputs": [
    {
     "data": {
      "text/html": [
       "<div>\n",
       "<style scoped>\n",
       "    .dataframe tbody tr th:only-of-type {\n",
       "        vertical-align: middle;\n",
       "    }\n",
       "\n",
       "    .dataframe tbody tr th {\n",
       "        vertical-align: top;\n",
       "    }\n",
       "\n",
       "    .dataframe thead th {\n",
       "        text-align: right;\n",
       "    }\n",
       "</style>\n",
       "<table border=\"1\" class=\"dataframe\">\n",
       "  <thead>\n",
       "    <tr style=\"text-align: right;\">\n",
       "      <th></th>\n",
       "      <th>Ano</th>\n",
       "      <th>Qtd</th>\n",
       "    </tr>\n",
       "  </thead>\n",
       "  <tbody>\n",
       "    <tr>\n",
       "      <th>0</th>\n",
       "      <td>1968</td>\n",
       "      <td>1</td>\n",
       "    </tr>\n",
       "    <tr>\n",
       "      <th>1</th>\n",
       "      <td>1969</td>\n",
       "      <td>1</td>\n",
       "    </tr>\n",
       "    <tr>\n",
       "      <th>2</th>\n",
       "      <td>1971</td>\n",
       "      <td>1</td>\n",
       "    </tr>\n",
       "    <tr>\n",
       "      <th>3</th>\n",
       "      <td>1972</td>\n",
       "      <td>1</td>\n",
       "    </tr>\n",
       "    <tr>\n",
       "      <th>4</th>\n",
       "      <td>1973</td>\n",
       "      <td>2</td>\n",
       "    </tr>\n",
       "  </tbody>\n",
       "</table>\n",
       "</div>"
      ],
      "text/plain": [
       "    Ano  Qtd\n",
       "0  1968    1\n",
       "1  1969    1\n",
       "2  1971    1\n",
       "3  1972    1\n",
       "4  1973    2"
      ]
     },
     "execution_count": 24,
     "metadata": {},
     "output_type": "execute_result"
    }
   ],
   "source": [
    "ano = pd.DataFrame(dffilme['Ano'], columns=['Ano'])\n",
    "ano = ano.groupby([\"Ano\"]).size().reset_index(name='count')\n",
    "ano = ano.rename(columns={'count': 'Qtd'})\n",
    "ano.head()"
   ]
  },
  {
   "cell_type": "code",
   "execution_count": 25,
   "metadata": {},
   "outputs": [
    {
     "data": {
      "image/png": "[encoded data removed]",
      "text/plain": [
       "<Figure size 432x288 with 1 Axes>"
      ]
     },
     "metadata": {},
     "output_type": "display_data"
    }
   ],
   "source": [
    "# quantidade de filmes por ano\n",
    "anos = ano['Ano']\n",
    "def filmes_ano(axes = None):\n",
    "    ano.plot(kind=\"line\" , x=\"Ano\", y =\"Qtd\", ax=axes)\n",
    "    plt.xlabel(\"Ano\")\n",
    "    plt.ylabel(\"Quantidade de Filmes Feitos\")\n",
    "    plt.xticks(ano.index, anos[0:], rotation='vertical', fontsize=9)\n",
    "    plt.grid()\n",
    "    plt.title(\"Quantidade de Filmes feitos por Al Pacino por ano\", fontsize=12)\n",
    "filmes_ano()"
   ]
  }
 ],
 "metadata": {
  "kernelspec": {
   "display_name": "Python 3",
   "language": "python",
   "name": "python3"
  },
  "language_info": {
   "codemirror_mode": {
    "name": "ipython",
    "version": 3
   },
   "file_extension": ".py",
   "mimetype": "text/x-python",
   "name": "python",
   "nbconvert_exporter": "python",
   "pygments_lexer": "ipython3",
   "version": "3.6.5"
  }
 },
 "nbformat": 4,
 "nbformat_minor": 2
}
